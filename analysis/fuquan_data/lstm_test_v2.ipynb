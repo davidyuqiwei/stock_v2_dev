{
 "cells": [
  {
   "cell_type": "code",
   "execution_count": 69,
   "metadata": {},
   "outputs": [
    {
     "name": "stdout",
     "output_type": "stream",
     "text": [
      "The autoreload extension is already loaded. To reload it, use:\n",
      "  %reload_ext autoreload\n"
     ]
    }
   ],
   "source": [
    "%load_ext autoreload\n",
    "%autoreload 2"
   ]
  },
  {
   "cell_type": "code",
   "execution_count": 70,
   "metadata": {},
   "outputs": [],
   "source": [
    "#https://www.datatechnotes.com/2024/04/sequence-prediction-with-lstm-model-in.html\n",
    "import torch\n",
    "import torch.nn as nn\n",
    "import numpy as np\n",
    "import pandas as pd\n",
    "import matplotlib.pyplot as plt \n",
    "from torch.utils import data"
   ]
  },
  {
   "cell_type": "code",
   "execution_count": 71,
   "metadata": {},
   "outputs": [],
   "source": [
    "# Convert data into sequence and label with given length\n",
    "def create_labels(data, step):\n",
    "    X = np.array([data[i:i+step] for i in range(len(data) - step)])\n",
    "    y = np.array(data[step:])\n",
    "    return X, y"
   ]
  },
  {
   "cell_type": "code",
   "execution_count": 72,
   "metadata": {},
   "outputs": [],
   "source": [
    "from scripts_stock.analysis.fuquan_data.get_data_sql import FGetDataSql \n",
    "from scripts_stock.utils.common import CommonScript\n",
    "conn = CommonScript.connect_to_db(\"test.db\")"
   ]
  },
  {
   "cell_type": "code",
   "execution_count": 73,
   "metadata": {},
   "outputs": [],
   "source": [
    "# from scripts_stock.analysis.fuquan_data.get_data_sql import FGetDataSql \n",
    "# from scripts_stock.utils.common import CommonScript\n",
    "\n",
    "# step_size = 30\n",
    "# conn = CommonScript.connect_to_db(\"test.db\")\n",
    "# stock_index = \"601398\"\n",
    "# date_cut = \"2022-01-01\"\n",
    "# input_sql_str = FGetDataSql.get_data_sql_str_before_years(stock_index,date_cut)\n",
    "# df1 = pd.read_sql_query(input_sql_str, conn)\n",
    "# df1.head(3)\n",
    "# df = df1[[\"close\"]]\n"
   ]
  },
  {
   "cell_type": "code",
   "execution_count": 74,
   "metadata": {},
   "outputs": [],
   "source": [
    "step_size = 10"
   ]
  },
  {
   "cell_type": "code",
   "execution_count": 75,
   "metadata": {},
   "outputs": [],
   "source": [
    "def get_train_test_data_lstm(df1,df,step_size):\n",
    "    # Define parameters\n",
    "    # step_size = 20\n",
    "    N = df1.shape[0]\n",
    "    forecast_start = int(df1.shape[0]*0.9)\n",
    "    # Prepare data for training and testing\n",
    "    values = df.values\n",
    "    train, test = values[:forecast_start, :], values[forecast_start:N, :]\n",
    "\n",
    "    # generate sequence data\n",
    "    trainX, trainY = create_labels(train, step_size)\n",
    "    # print(trainX.shape,trainY.shape)\n",
    "    testX, testY = create_labels(test, step_size)\n",
    "\n",
    "    # Reshape data for LSTM input\n",
    "    trainX = np.reshape(trainX, (trainX.shape[0], 1, trainX.shape[1]))\n",
    "    testX = np.reshape(testX, (testX.shape[0], 1, testX.shape[1]))\n",
    "    return trainX, trainY,testX, testY \n",
    "\n",
    "trainX, trainY,testX, testY = get_train_test_data_lstm(df1,df,step_size)"
   ]
  },
  {
   "cell_type": "code",
   "execution_count": 76,
   "metadata": {},
   "outputs": [],
   "source": [
    "# input_sql_str_v1 = FGetDataSql.get_distinct_stock_index_infuquan()\n",
    "# stock_list = pd.read_sql_query(input_sql_str_v1, conn)\n",
    "\n",
    "\n",
    "# train_x_list = []\n",
    "# train_y_list = []\n",
    "# i=\"601398\"\n",
    "# input_sql_str = FGetDataSql.get_data_sql_str_before_years(i,date_cut)\n",
    "# df1 = pd.read_sql_query(input_sql_str, conn)\n",
    "# df = df1[[\"close\"]]\n",
    "# trainX, trainY,testX, testY = get_train_test_data_lstm(df1,df)\n",
    "# train_x_list.append(trainX)\n",
    "# train_y_list.append(trainY)"
   ]
  },
  {
   "cell_type": "code",
   "execution_count": 77,
   "metadata": {},
   "outputs": [],
   "source": [
    "# trainX\n",
    "# max_values = np.max(trainX, axis=(1, 2), keepdims=True)\n",
    "# trainX_norm = trainX / max_values\n",
    "\n",
    "# trainY_norm = trainY/max_values"
   ]
  },
  {
   "cell_type": "code",
   "execution_count": 78,
   "metadata": {},
   "outputs": [],
   "source": [
    "# trainY_norm"
   ]
  },
  {
   "cell_type": "code",
   "execution_count": 79,
   "metadata": {},
   "outputs": [],
   "source": [
    "# input_sql_str_v1 = FGetDataSql.get_distinct_stock_index_infuquan()\n",
    "# stock_list = pd.read_sql_query(input_sql_str_v1, conn)\n",
    "\n",
    "\n",
    "# train_x_list = []\n",
    "# train_y_list = []\n",
    "# test_x_list = []\n",
    "# test_y_list = []\n",
    "# for i in stock_list[\"stock_index\"].tolist()[0:30]:\n",
    "#     input_sql_str = FGetDataSql.get_data_sql_str_before_years(i,date_cut)\n",
    "#     df1 = pd.read_sql_query(input_sql_str, conn)\n",
    "#     df = df1[[\"close\"]]\n",
    "#     trainX, trainY,testX, testY = get_train_test_data_lstm(df1,df)\n",
    "#     max_values_train = np.max(trainX, axis=(1, 2), keepdims=True)\n",
    "#     trainX_norm = trainX/max_values_train\n",
    "#     trainY_norm = trainY/max_values_train.reshape(max_values_train.shape[0],1)\n",
    "#     train_x_list.append(trainX_norm)\n",
    "#     train_y_list.append(trainY_norm)\n",
    "    \n",
    "#     max_values_test = np.max(testX, axis=(1, 2), keepdims=True)\n",
    "#     testX_norm = testX/max_values_test\n",
    "#     testY_norm = testY/max_values_test.reshape(max_values_test.shape[0],1)\n",
    "#     test_x_list.append(testX_norm)\n",
    "#     test_y_list.append(testY_norm)\n",
    "\n",
    "    \n",
    "# trainX = np.concatenate(train_x_list, axis=0)\n",
    "# trainY = np.concatenate(train_y_list, axis=0)\n",
    "\n",
    "\n",
    "# testX_v1 = np.concatenate(test_x_list, axis=0)\n",
    "# testY_v1 = np.concatenate(test_y_list, axis=0)\n",
    "# # Convert data to PyTorch tensors\n",
    "# trainX_tens = torch.tensor(trainX, dtype=torch.float32)\n",
    "# trainY_tens = torch.tensor(trainY, dtype=torch.float32)\n",
    "# testX_tens = torch.tensor(testX, dtype=torch.float32)\n",
    "# testY_tens = torch.tensor(testY, dtype=torch.float32)\n",
    "\n",
    "\n",
    "# testX_tens_v1 = torch.tensor(testX_v1, dtype=torch.float32)\n",
    "# testY_tens = torch.tensor(testY_v1, dtype=torch.float32)\n",
    "\n",
    "# # Create DataLoader for training\n",
    "# train_dataset = torch.utils.data.TensorDataset(trainX_tens, trainY_tens)\n",
    "# train_loader = torch.utils.data.DataLoader(train_dataset, batch_size=64)\n",
    "# print(trainX.shape,trainY.shape)"
   ]
  },
  {
   "cell_type": "code",
   "execution_count": 80,
   "metadata": {},
   "outputs": [
    {
     "name": "stdout",
     "output_type": "stream",
     "text": [
      "(146980, 1, 10) (146980, 1)\n",
      "torch.Size([57, 1, 10]) torch.Size([57, 1])\n"
     ]
    }
   ],
   "source": [
    "input_sql_str_v1 = FGetDataSql.get_distinct_stock_index_infuquan()\n",
    "stock_list = pd.read_sql_query(input_sql_str_v1, conn)\n",
    "\n",
    "\n",
    "train_x_list = []\n",
    "train_y_list = []\n",
    "test_x_list = []\n",
    "test_y_list = []\n",
    "for i in stock_list[\"stock_index\"].tolist():\n",
    "    input_sql_str = FGetDataSql.get_data_sql_str_before_years(i,date_cut)\n",
    "    df1 = pd.read_sql_query(input_sql_str, conn)\n",
    "    df = df1[[\"close\"]]\n",
    "    trainX, trainY,testX, testY = get_train_test_data_lstm(df1,df,step_size)\n",
    "    max_values_train = np.max(trainX, axis=(1, 2), keepdims=True)\n",
    "    trainX_norm = trainX/max_values_train\n",
    "    trainY_norm = trainY/max_values_train.reshape(max_values_train.shape[0],1)\n",
    "    train_x_list.append(trainX_norm)\n",
    "    train_y_list.append(trainY_norm)\n",
    "    \n",
    "    max_values_test = np.max(testX, axis=(1, 2), keepdims=True)\n",
    "    testX_norm = testX/max_values_test\n",
    "    testY_norm = testY/max_values_test.reshape(max_values_test.shape[0],1)\n",
    "    test_x_list.append(testX_norm)\n",
    "    test_y_list.append(testY_norm)\n",
    "\n",
    "    \n",
    "trainX = np.concatenate(train_x_list, axis=0)\n",
    "trainY = np.concatenate(train_y_list, axis=0)\n",
    "trainX_tens = torch.tensor(trainX, dtype=torch.float32)\n",
    "trainY_tens = torch.tensor(trainY, dtype=torch.float32)\n",
    "\n",
    "train_dataset = torch.utils.data.TensorDataset(trainX_tens, trainY_tens)\n",
    "train_loader = torch.utils.data.DataLoader(train_dataset, batch_size=64)\n",
    "\n",
    "testX_v1 = np.concatenate(test_x_list, axis=0)\n",
    "testY_v1 = np.concatenate(test_y_list, axis=0)\n",
    "# Convert data to PyTorch tensors\n",
    "\n",
    "testX_tens = torch.tensor(testX_norm, dtype=torch.float32)\n",
    "testY_tens = torch.tensor(testY_norm, dtype=torch.float32)\n",
    "\n",
    "\n",
    "# testX_tens_v1 = torch.tensor(testX_v1, dtype=torch.float32)\n",
    "# testY_tens = torch.tensor(testY_v1, dtype=torch.float32)\n",
    "\n",
    "# Create DataLoader for training\n",
    "# train_dataset = torch.utils.data.TensorDataset(trainX_tens, trainY_tens)\n",
    "# train_loader = torch.utils.data.DataLoader(train_dataset, batch_size=64)\n",
    "print(trainX.shape,trainY.shape)\n",
    "print(testX_tens.shape,testY_tens.shape)"
   ]
  },
  {
   "cell_type": "code",
   "execution_count": 81,
   "metadata": {},
   "outputs": [],
   "source": [
    "# aa = trainY/max_values_train.reshape(max_values_train.shape[0],1)\n",
    "# max_values_train.shape\n",
    "# trainX_tens"
   ]
  },
  {
   "cell_type": "code",
   "execution_count": 82,
   "metadata": {},
   "outputs": [],
   "source": [
    "# Define LSTM model\n",
    "class LSTMModel(nn.Module):\n",
    "    def __init__(self, input_size, hidden_size, output_size):\n",
    "        super(LSTMModel, self).__init__()\n",
    "        self.lstm = nn.LSTM(input_size, hidden_size, batch_first=True)\n",
    "        self.fc = nn.Linear(hidden_size, output_size)\n",
    "\n",
    "    def forward(self, x):\n",
    "        out, _ = self.lstm(x)\n",
    "        out = self.fc(out[:, -1, :])  # Take the last time step's output\n",
    "        return out"
   ]
  },
  {
   "cell_type": "code",
   "execution_count": 83,
   "metadata": {},
   "outputs": [],
   "source": [
    "# Hyperparameters\n",
    "input_size = step_size\n",
    "hidden_size = 128\n",
    "output_size = 1\n",
    "epochs = 100\n",
    "learning_rate = 0.001\n",
    " \n",
    "# Instantiate LSTM model\n",
    "model = LSTMModel(input_size=input_size, hidden_size=hidden_size, output_size=output_size)\n",
    "\n",
    "# Define loss function and optimizer\n",
    "criterion = nn.MSELoss()\n",
    "optimizer = torch.optim.Adam(model.parameters(), lr=learning_rate)\n",
    "\n"
   ]
  },
  {
   "cell_type": "code",
   "execution_count": 84,
   "metadata": {},
   "outputs": [],
   "source": [
    "# # loss = criterion(output, batch_Y)\n",
    "# trainX, trainY,testX, testY = get_train_test_data_lstm(df1,df)\n",
    "# aa=trainY/max_values_train\n",
    "# aa"
   ]
  },
  {
   "cell_type": "code",
   "execution_count": 85,
   "metadata": {},
   "outputs": [
    {
     "name": "stdout",
     "output_type": "stream",
     "text": [
      "Epoch [10/100], Loss: 0.0005\n",
      "Epoch [20/100], Loss: 0.0004\n"
     ]
    },
    {
     "ename": "KeyboardInterrupt",
     "evalue": "",
     "output_type": "error",
     "traceback": [
      "\u001b[0;31m---------------------------------------------------------------------------\u001b[0m",
      "\u001b[0;31mKeyboardInterrupt\u001b[0m                         Traceback (most recent call last)",
      "\u001b[0;32m<ipython-input-85-939ab2cbb08e>\u001b[0m in \u001b[0;36m<module>\u001b[0;34m\u001b[0m\n\u001b[1;32m     12\u001b[0m \u001b[0;34m\u001b[0m\u001b[0m\n\u001b[1;32m     13\u001b[0m         \u001b[0;31m# Computes gradients of the loss with respect to model parameters.\u001b[0m\u001b[0;34m\u001b[0m\u001b[0;34m\u001b[0m\u001b[0;34m\u001b[0m\u001b[0m\n\u001b[0;32m---> 14\u001b[0;31m         \u001b[0mloss\u001b[0m\u001b[0;34m.\u001b[0m\u001b[0mbackward\u001b[0m\u001b[0;34m(\u001b[0m\u001b[0;34m)\u001b[0m\u001b[0;34m\u001b[0m\u001b[0;34m\u001b[0m\u001b[0m\n\u001b[0m\u001b[1;32m     15\u001b[0m \u001b[0;34m\u001b[0m\u001b[0m\n\u001b[1;32m     16\u001b[0m         \u001b[0;31m# Updates model parameters based on the computed gradients using\u001b[0m\u001b[0;34m\u001b[0m\u001b[0;34m\u001b[0m\u001b[0;34m\u001b[0m\u001b[0m\n",
      "\u001b[0;32m~/software/Anaconda/lib/python3.7/site-packages/torch/tensor.py\u001b[0m in \u001b[0;36mbackward\u001b[0;34m(self, gradient, retain_graph, create_graph)\u001b[0m\n\u001b[1;32m    105\u001b[0m                 \u001b[0mproducts\u001b[0m\u001b[0;34m.\u001b[0m \u001b[0mDefaults\u001b[0m \u001b[0mto\u001b[0m\u001b[0;31m \u001b[0m\u001b[0;31m`\u001b[0m\u001b[0;31m`\u001b[0m\u001b[0;32mFalse\u001b[0m\u001b[0;31m`\u001b[0m\u001b[0;31m`\u001b[0m\u001b[0;34m.\u001b[0m\u001b[0;34m\u001b[0m\u001b[0;34m\u001b[0m\u001b[0m\n\u001b[1;32m    106\u001b[0m         \"\"\"\n\u001b[0;32m--> 107\u001b[0;31m         \u001b[0mtorch\u001b[0m\u001b[0;34m.\u001b[0m\u001b[0mautograd\u001b[0m\u001b[0;34m.\u001b[0m\u001b[0mbackward\u001b[0m\u001b[0;34m(\u001b[0m\u001b[0mself\u001b[0m\u001b[0;34m,\u001b[0m \u001b[0mgradient\u001b[0m\u001b[0;34m,\u001b[0m \u001b[0mretain_graph\u001b[0m\u001b[0;34m,\u001b[0m \u001b[0mcreate_graph\u001b[0m\u001b[0;34m)\u001b[0m\u001b[0;34m\u001b[0m\u001b[0;34m\u001b[0m\u001b[0m\n\u001b[0m\u001b[1;32m    108\u001b[0m \u001b[0;34m\u001b[0m\u001b[0m\n\u001b[1;32m    109\u001b[0m     \u001b[0;32mdef\u001b[0m \u001b[0mregister_hook\u001b[0m\u001b[0;34m(\u001b[0m\u001b[0mself\u001b[0m\u001b[0;34m,\u001b[0m \u001b[0mhook\u001b[0m\u001b[0;34m)\u001b[0m\u001b[0;34m:\u001b[0m\u001b[0;34m\u001b[0m\u001b[0;34m\u001b[0m\u001b[0m\n",
      "\u001b[0;32m~/software/Anaconda/lib/python3.7/site-packages/torch/autograd/__init__.py\u001b[0m in \u001b[0;36mbackward\u001b[0;34m(tensors, grad_tensors, retain_graph, create_graph, grad_variables)\u001b[0m\n\u001b[1;32m     91\u001b[0m     Variable._execution_engine.run_backward(\n\u001b[1;32m     92\u001b[0m         \u001b[0mtensors\u001b[0m\u001b[0;34m,\u001b[0m \u001b[0mgrad_tensors\u001b[0m\u001b[0;34m,\u001b[0m \u001b[0mretain_graph\u001b[0m\u001b[0;34m,\u001b[0m \u001b[0mcreate_graph\u001b[0m\u001b[0;34m,\u001b[0m\u001b[0;34m\u001b[0m\u001b[0;34m\u001b[0m\u001b[0m\n\u001b[0;32m---> 93\u001b[0;31m         allow_unreachable=True)  # allow_unreachable flag\n\u001b[0m\u001b[1;32m     94\u001b[0m \u001b[0;34m\u001b[0m\u001b[0m\n\u001b[1;32m     95\u001b[0m \u001b[0;34m\u001b[0m\u001b[0m\n",
      "\u001b[0;31mKeyboardInterrupt\u001b[0m: "
     ]
    }
   ],
   "source": [
    "# Train the model\n",
    "for epoch in range(epochs):\n",
    "#for epoch in range(10):\n",
    "    model.train()\n",
    "    for batch_X, batch_Y in train_loader:\n",
    "        optimizer.zero_grad()  # Clears the gradients of all optimized parameters.\n",
    "        output = model(batch_X)\n",
    "\n",
    "        # Computes the loss between the model predictions and the ground\n",
    "        # truth labels for the current mini-batch.\n",
    "        loss = criterion(output, batch_Y)\n",
    "\n",
    "        # Computes gradients of the loss with respect to model parameters.\n",
    "        loss.backward()\n",
    "\n",
    "        # Updates model parameters based on the computed gradients using\n",
    "        # the specified optimization algorithm.\n",
    "        optimizer.step()\n",
    "\n",
    "    if (epoch + 1) % 10 == 0:\n",
    "        print(f'Epoch [{epoch + 1}/{epochs}], Loss: {loss.item():.4f}')\n"
   ]
  },
  {
   "cell_type": "code",
   "execution_count": 37,
   "metadata": {},
   "outputs": [
    {
     "data": {
      "text/plain": [
       "0.00017398092313669622"
      ]
     },
     "execution_count": 37,
     "metadata": {},
     "output_type": "execute_result"
    }
   ],
   "source": [
    "loss.item()"
   ]
  },
  {
   "cell_type": "code",
   "execution_count": 18,
   "metadata": {},
   "outputs": [],
   "source": [
    "# from scripts_stock.cfg.set_dir import ProjectDir\n",
    "# import os\n",
    "\n",
    "# model_path = os.path.join(ProjectDir.model_dir,\"ts_pred_lstm\",\"lstm_\"+str(step_size)+\"_test.pth\")\n",
    "# torch.save(model.state_dict(), model_path)\n"
   ]
  },
  {
   "cell_type": "code",
   "execution_count": 23,
   "metadata": {},
   "outputs": [
    {
     "data": {
      "text/plain": [
       "IncompatibleKeys(missing_keys=[], unexpected_keys=[])"
      ]
     },
     "execution_count": 23,
     "metadata": {},
     "output_type": "execute_result"
    }
   ],
   "source": [
    "# # Model class must be defined somewhere\n",
    "# # model = torch.load(model_path)\n",
    "\n",
    "# model = LSTMModel(input_size=input_size, hidden_size=hidden_size, output_size=output_size)\n",
    "# model.load_state_dict(torch.load(model_path))\n",
    "# # model.eval()"
   ]
  },
  {
   "cell_type": "code",
   "execution_count": 91,
   "metadata": {},
   "outputs": [
    {
     "data": {
      "text/plain": [
       "0.015"
      ]
     },
     "execution_count": 91,
     "metadata": {},
     "output_type": "execute_result"
    }
   ],
   "source": [
    "error_list = []\n",
    "for i in range(0,len(test_x_list)):\n",
    "    testX_tens = torch.tensor(test_x_list[i], dtype=torch.float)\n",
    "    with torch.no_grad():\n",
    "        #model.eval()\n",
    "        testPredict = model(testX_tens)\n",
    "    error_v1 = np.round(np.average(abs((testPredict.numpy()-test_y_list[i])/test_y_list[i])b),3)\n",
    "    error_list.append(error_v1)\n",
    "\n",
    "round(np.average(error_list),3)\n",
    "\n",
    "\n",
    "# #np.round(abs(np.average(testPredict.numpy()-test_y_list[2])/test_y_list[2])*100,2)\n",
    "# #test_y_list[2].shape"
   ]
  },
  {
   "cell_type": "code",
   "execution_count": 98,
   "metadata": {},
   "outputs": [
    {
     "data": {
      "text/plain": [
       "250"
      ]
     },
     "execution_count": 98,
     "metadata": {},
     "output_type": "execute_result"
    }
   ],
   "source": [
    "i"
   ]
  },
  {
   "cell_type": "code",
   "execution_count": 97,
   "metadata": {},
   "outputs": [
    {
     "data": {
      "text/plain": [
       "array([[0.05242017],\n",
       "       [0.01857017],\n",
       "       [0.01996175],\n",
       "       [0.04731249],\n",
       "       [0.0121405 ],\n",
       "       [0.01351686],\n",
       "       [0.00597687],\n",
       "       [0.00286568],\n",
       "       [0.00074851],\n",
       "       [0.00698414],\n",
       "       [0.00239259],\n",
       "       [0.04273568],\n",
       "       [0.02022013],\n",
       "       [0.02202931],\n",
       "       [0.02525556],\n",
       "       [0.04351948],\n",
       "       [0.01000083],\n",
       "       [0.05035089],\n",
       "       [0.02173902],\n",
       "       [0.01181973],\n",
       "       [0.00929568],\n",
       "       [0.03008536],\n",
       "       [0.02215115],\n",
       "       [0.00131784],\n",
       "       [0.01604732],\n",
       "       [0.01330982],\n",
       "       [0.0174534 ],\n",
       "       [0.02173657],\n",
       "       [0.00299874],\n",
       "       [0.01080596],\n",
       "       [0.0052213 ],\n",
       "       [0.01461394],\n",
       "       [0.015689  ],\n",
       "       [0.03389084],\n",
       "       [0.04090754],\n",
       "       [0.03073812],\n",
       "       [0.01301069],\n",
       "       [0.0052525 ],\n",
       "       [0.01299378],\n",
       "       [0.03266457],\n",
       "       [0.04784481],\n",
       "       [0.01613368],\n",
       "       [0.008887  ],\n",
       "       [0.0115856 ],\n",
       "       [0.02014578],\n",
       "       [0.02241827],\n",
       "       [0.01869092],\n",
       "       [0.08772696],\n",
       "       [0.02759065],\n",
       "       [0.06129639],\n",
       "       [0.01248458],\n",
       "       [0.0120885 ],\n",
       "       [0.01280091],\n",
       "       [0.00044648],\n",
       "       [0.06651828],\n",
       "       [0.00200713],\n",
       "       [0.03292669]])"
      ]
     },
     "execution_count": 97,
     "metadata": {},
     "output_type": "execute_result"
    }
   ],
   "source": [
    "abs((testPredict.numpy()-test_y_list[i])/test_y_list[i])"
   ]
  },
  {
   "cell_type": "code",
   "execution_count": 64,
   "metadata": {},
   "outputs": [
    {
     "data": {
      "text/plain": [
       "251"
      ]
     },
     "execution_count": 64,
     "metadata": {},
     "output_type": "execute_result"
    }
   ],
   "source": [
    "len(test_x_list)"
   ]
  },
  {
   "cell_type": "code",
   "execution_count": 101,
   "metadata": {},
   "outputs": [
    {
     "data": {
      "image/png": "[encoded data removed]",
      "text/plain": [
       "<Figure size 432x288 with 1 Axes>"
      ]
     },
     "metadata": {
      "needs_background": "light"
     },
     "output_type": "display_data"
    }
   ],
   "source": [
    "testX_tens = torch.tensor(test_x_list[230], dtype=torch.float)\n",
    "\n",
    "# Evaluation\n",
    "with torch.no_grad():\n",
    "    model.eval()\n",
    "    testPredict = model(testX_tens)\n",
    "\n",
    "# Plot results\n",
    "index = range(len(test_y_list[230]))\n",
    "plt.plot(index, testY_norm, label=\"Ground truth\")\n",
    "plt.plot(index, testPredict.numpy(), label=\"Predicted\")\n",
    "plt.legend()\n",
    "plt.show()"
   ]
  },
  {
   "cell_type": "code",
   "execution_count": 75,
   "metadata": {},
   "outputs": [
    {
     "data": {
      "text/plain": [
       "tensor([[[0.9194, 0.9113, 0.9187,  ..., 0.9335, 0.9416, 0.9335]],\n",
       "\n",
       "        [[0.9113, 0.9187, 0.9328,  ..., 0.9416, 0.9335, 0.9328]],\n",
       "\n",
       "        [[0.9187, 0.9328, 0.9194,  ..., 0.9335, 0.9328, 0.9335]],\n",
       "\n",
       "        ...,\n",
       "\n",
       "        [[0.9150, 0.9183, 0.9197,  ..., 0.9914, 1.0000, 0.9993]],\n",
       "\n",
       "        [[0.9177, 0.9190, 0.9277,  ..., 0.9993, 0.9987, 1.0000]],\n",
       "\n",
       "        [[0.8766, 0.8848, 0.8994,  ..., 0.9525, 0.9538, 1.0000]]])"
      ]
     },
     "execution_count": 75,
     "metadata": {},
     "output_type": "execute_result"
    }
   ],
   "source": [
    "testX_tens"
   ]
  },
  {
   "cell_type": "code",
   "execution_count": 86,
   "metadata": {},
   "outputs": [],
   "source": [
    "i = stock_list[\"stock_index\"].tolist()[28]\n",
    "#for i in stock_list[\"stock_index\"].tolist()[0:30]:\n",
    "input_sql_str = FGetDataSql.get_data_sql_str_before_years(i,date_cut)\n",
    "df1 = pd.read_sql_query(input_sql_str, conn)\n",
    "df = df1[[\"close\"]]\n",
    "_,_,testX, testY = get_train_test_data_lstm(df1,df,step_size)"
   ]
  },
  {
   "cell_type": "code",
   "execution_count": 87,
   "metadata": {},
   "outputs": [
    {
     "data": {
      "text/plain": [
       "tensor([[33.1100, 32.5700, 32.3600, 32.6100, 32.4200, 32.5700, 32.4600, 31.8300,\n",
       "         31.7500, 31.4500, 31.5500, 31.6500, 31.2600, 31.9500, 31.2900, 30.8800,\n",
       "         30.7000, 30.9400, 30.2800, 30.3400, 30.0200, 30.2900, 30.6600, 31.2100,\n",
       "         31.0700, 31.2000, 31.9500, 31.7000, 31.6100, 31.7400]])"
      ]
     },
     "execution_count": 87,
     "metadata": {},
     "output_type": "execute_result"
    }
   ],
   "source": [
    "testX_tens[1]"
   ]
  },
  {
   "cell_type": "code",
   "execution_count": 123,
   "metadata": {},
   "outputs": [
    {
     "data": {
      "text/plain": [
       "IncompatibleKeys(missing_keys=[], unexpected_keys=[])"
      ]
     },
     "execution_count": 123,
     "metadata": {},
     "output_type": "execute_result"
    }
   ],
   "source": [
    "model_path = os.path.join(ProjectDir.model_dir,\"ts_pred_lstm\",\"lstm_10_error_0.014_test.pth\")\n",
    "model = LSTMModel(input_size=input_size, hidden_size=hidden_size, output_size=output_size)\n",
    "model.load_state_dict(torch.load(model_path))"
   ]
  },
  {
   "cell_type": "code",
   "execution_count": 154,
   "metadata": {},
   "outputs": [
    {
     "name": "stdout",
     "output_type": "stream",
     "text": [
      "5.74\n",
      "===== predict =====\n"
     ]
    },
    {
     "data": {
      "text/plain": [
       "tensor(5.7075)"
      ]
     },
     "execution_count": 154,
     "metadata": {},
     "output_type": "execute_result"
    }
   ],
   "source": [
    "model_path = os.path.join(ProjectDir.model_dir,\"ts_pred_lstm\",\"lstm_10_error_0.014_test.pth\")\n",
    "model = LSTMModel(input_size=input_size, hidden_size=hidden_size, output_size=output_size)\n",
    "model.load_state_dict(torch.load(model_path))\n",
    "i=\"601398\"\n",
    "date_cut = \"2024-09-01\"\n",
    "input_sql_str = FGetDataSql.get_data_sql_str_before_years(i,date_cut)\n",
    "df1 = pd.read_sql_query(input_sql_str, conn)\n",
    "#test_data = df1.tail(11)\n",
    "test_data = df1.tail(13).iloc[0:10,:]\n",
    "testx = np.array(test_data[\"high\"])\n",
    "testx_v1 = np.array([testx])\n",
    "testx_v2 = np.reshape(testx_v1, (testx_v1.shape[0], 1, testx_v1.shape[1]))\n",
    "max_values_X = np.max(testx_v2, axis=(1, 2), keepdims=True)\n",
    "testx_v3 = testx_v2/max_values_X\n",
    "testX_tens = torch.tensor(testx_v3, dtype=torch.float32)\n",
    "with torch.no_grad():\n",
    "    #model.eval()\n",
    "    testPredict = model(testX_tens)\n",
    "print(max_values_X[0][0][0])\n",
    "print(\"===== predict =====\")\n",
    "testPredict[0][0]*max_values_X[0][0][0]"
   ]
  },
  {
   "cell_type": "code",
   "execution_count": 152,
   "metadata": {},
   "outputs": [
    {
     "data": {
      "text/html": [
       "<div>\n",
       "<style scoped>\n",
       "    .dataframe tbody tr th:only-of-type {\n",
       "        vertical-align: middle;\n",
       "    }\n",
       "\n",
       "    .dataframe tbody tr th {\n",
       "        vertical-align: top;\n",
       "    }\n",
       "\n",
       "    .dataframe thead th {\n",
       "        text-align: right;\n",
       "    }\n",
       "</style>\n",
       "<table border=\"1\" class=\"dataframe\">\n",
       "  <thead>\n",
       "    <tr style=\"text-align: right;\">\n",
       "      <th></th>\n",
       "      <th>date</th>\n",
       "      <th>open</th>\n",
       "      <th>close</th>\n",
       "      <th>high</th>\n",
       "      <th>low</th>\n",
       "      <th>stock_index</th>\n",
       "      <th>update_time</th>\n",
       "    </tr>\n",
       "  </thead>\n",
       "  <tbody>\n",
       "    <tr>\n",
       "      <th>5</th>\n",
       "      <td>2024-09-09</td>\n",
       "      <td>5.63</td>\n",
       "      <td>5.61</td>\n",
       "      <td>5.65</td>\n",
       "      <td>5.51</td>\n",
       "      <td>601398</td>\n",
       "      <td>2024-09-27 00:54:44.414351</td>\n",
       "    </tr>\n",
       "    <tr>\n",
       "      <th>6</th>\n",
       "      <td>2024-09-10</td>\n",
       "      <td>5.61</td>\n",
       "      <td>5.67</td>\n",
       "      <td>5.72</td>\n",
       "      <td>5.60</td>\n",
       "      <td>601398</td>\n",
       "      <td>2024-09-27 00:54:44.414351</td>\n",
       "    </tr>\n",
       "    <tr>\n",
       "      <th>7</th>\n",
       "      <td>2024-09-11</td>\n",
       "      <td>5.66</td>\n",
       "      <td>5.54</td>\n",
       "      <td>5.67</td>\n",
       "      <td>5.50</td>\n",
       "      <td>601398</td>\n",
       "      <td>2024-09-27 00:54:44.414351</td>\n",
       "    </tr>\n",
       "    <tr>\n",
       "      <th>8</th>\n",
       "      <td>2024-09-12</td>\n",
       "      <td>5.51</td>\n",
       "      <td>5.54</td>\n",
       "      <td>5.56</td>\n",
       "      <td>5.45</td>\n",
       "      <td>601398</td>\n",
       "      <td>2024-09-27 00:54:44.414351</td>\n",
       "    </tr>\n",
       "    <tr>\n",
       "      <th>9</th>\n",
       "      <td>2024-09-13</td>\n",
       "      <td>5.54</td>\n",
       "      <td>5.56</td>\n",
       "      <td>5.58</td>\n",
       "      <td>5.52</td>\n",
       "      <td>601398</td>\n",
       "      <td>2024-09-27 00:54:44.414351</td>\n",
       "    </tr>\n",
       "    <tr>\n",
       "      <th>10</th>\n",
       "      <td>2024-09-18</td>\n",
       "      <td>5.57</td>\n",
       "      <td>5.68</td>\n",
       "      <td>5.68</td>\n",
       "      <td>5.57</td>\n",
       "      <td>601398</td>\n",
       "      <td>2024-09-27 00:54:44.414351</td>\n",
       "    </tr>\n",
       "    <tr>\n",
       "      <th>11</th>\n",
       "      <td>2024-09-19</td>\n",
       "      <td>5.69</td>\n",
       "      <td>5.65</td>\n",
       "      <td>5.71</td>\n",
       "      <td>5.58</td>\n",
       "      <td>601398</td>\n",
       "      <td>2024-09-27 00:54:44.414351</td>\n",
       "    </tr>\n",
       "    <tr>\n",
       "      <th>12</th>\n",
       "      <td>2024-09-20</td>\n",
       "      <td>5.66</td>\n",
       "      <td>5.67</td>\n",
       "      <td>5.69</td>\n",
       "      <td>5.62</td>\n",
       "      <td>601398</td>\n",
       "      <td>2024-09-27 00:54:44.414351</td>\n",
       "    </tr>\n",
       "    <tr>\n",
       "      <th>13</th>\n",
       "      <td>2024-09-23</td>\n",
       "      <td>5.66</td>\n",
       "      <td>5.72</td>\n",
       "      <td>5.74</td>\n",
       "      <td>5.62</td>\n",
       "      <td>601398</td>\n",
       "      <td>2024-09-27 00:54:44.414351</td>\n",
       "    </tr>\n",
       "    <tr>\n",
       "      <th>14</th>\n",
       "      <td>2024-09-24</td>\n",
       "      <td>5.75</td>\n",
       "      <td>6.00</td>\n",
       "      <td>6.00</td>\n",
       "      <td>5.73</td>\n",
       "      <td>601398</td>\n",
       "      <td>2024-09-27 00:54:44.414351</td>\n",
       "    </tr>\n",
       "  </tbody>\n",
       "</table>\n",
       "</div>"
      ],
      "text/plain": [
       "          date  open  close  high   low  stock_index  \\\n",
       "5   2024-09-09  5.63   5.61  5.65  5.51       601398   \n",
       "6   2024-09-10  5.61   5.67  5.72  5.60       601398   \n",
       "7   2024-09-11  5.66   5.54  5.67  5.50       601398   \n",
       "8   2024-09-12  5.51   5.54  5.56  5.45       601398   \n",
       "9   2024-09-13  5.54   5.56  5.58  5.52       601398   \n",
       "10  2024-09-18  5.57   5.68  5.68  5.57       601398   \n",
       "11  2024-09-19  5.69   5.65  5.71  5.58       601398   \n",
       "12  2024-09-20  5.66   5.67  5.69  5.62       601398   \n",
       "13  2024-09-23  5.66   5.72  5.74  5.62       601398   \n",
       "14  2024-09-24  5.75   6.00  6.00  5.73       601398   \n",
       "\n",
       "                   update_time  \n",
       "5   2024-09-27 00:54:44.414351  \n",
       "6   2024-09-27 00:54:44.414351  \n",
       "7   2024-09-27 00:54:44.414351  \n",
       "8   2024-09-27 00:54:44.414351  \n",
       "9   2024-09-27 00:54:44.414351  \n",
       "10  2024-09-27 00:54:44.414351  \n",
       "11  2024-09-27 00:54:44.414351  \n",
       "12  2024-09-27 00:54:44.414351  \n",
       "13  2024-09-27 00:54:44.414351  \n",
       "14  2024-09-27 00:54:44.414351  "
      ]
     },
     "execution_count": 152,
     "metadata": {},
     "output_type": "execute_result"
    }
   ],
   "source": [
    "df1.tail(12).iloc[0:10,:]"
   ]
  },
  {
   "cell_type": "code",
   "execution_count": 153,
   "metadata": {},
   "outputs": [
    {
     "data": {
      "text/html": [
       "<div>\n",
       "<style scoped>\n",
       "    .dataframe tbody tr th:only-of-type {\n",
       "        vertical-align: middle;\n",
       "    }\n",
       "\n",
       "    .dataframe tbody tr th {\n",
       "        vertical-align: top;\n",
       "    }\n",
       "\n",
       "    .dataframe thead th {\n",
       "        text-align: right;\n",
       "    }\n",
       "</style>\n",
       "<table border=\"1\" class=\"dataframe\">\n",
       "  <thead>\n",
       "    <tr style=\"text-align: right;\">\n",
       "      <th></th>\n",
       "      <th>date</th>\n",
       "      <th>open</th>\n",
       "      <th>close</th>\n",
       "      <th>high</th>\n",
       "      <th>low</th>\n",
       "      <th>stock_index</th>\n",
       "      <th>update_time</th>\n",
       "    </tr>\n",
       "  </thead>\n",
       "  <tbody>\n",
       "    <tr>\n",
       "      <th>5</th>\n",
       "      <td>2024-09-09</td>\n",
       "      <td>5.63</td>\n",
       "      <td>5.61</td>\n",
       "      <td>5.65</td>\n",
       "      <td>5.51</td>\n",
       "      <td>601398</td>\n",
       "      <td>2024-09-27 00:54:44.414351</td>\n",
       "    </tr>\n",
       "    <tr>\n",
       "      <th>6</th>\n",
       "      <td>2024-09-10</td>\n",
       "      <td>5.61</td>\n",
       "      <td>5.67</td>\n",
       "      <td>5.72</td>\n",
       "      <td>5.60</td>\n",
       "      <td>601398</td>\n",
       "      <td>2024-09-27 00:54:44.414351</td>\n",
       "    </tr>\n",
       "    <tr>\n",
       "      <th>7</th>\n",
       "      <td>2024-09-11</td>\n",
       "      <td>5.66</td>\n",
       "      <td>5.54</td>\n",
       "      <td>5.67</td>\n",
       "      <td>5.50</td>\n",
       "      <td>601398</td>\n",
       "      <td>2024-09-27 00:54:44.414351</td>\n",
       "    </tr>\n",
       "    <tr>\n",
       "      <th>8</th>\n",
       "      <td>2024-09-12</td>\n",
       "      <td>5.51</td>\n",
       "      <td>5.54</td>\n",
       "      <td>5.56</td>\n",
       "      <td>5.45</td>\n",
       "      <td>601398</td>\n",
       "      <td>2024-09-27 00:54:44.414351</td>\n",
       "    </tr>\n",
       "    <tr>\n",
       "      <th>9</th>\n",
       "      <td>2024-09-13</td>\n",
       "      <td>5.54</td>\n",
       "      <td>5.56</td>\n",
       "      <td>5.58</td>\n",
       "      <td>5.52</td>\n",
       "      <td>601398</td>\n",
       "      <td>2024-09-27 00:54:44.414351</td>\n",
       "    </tr>\n",
       "    <tr>\n",
       "      <th>10</th>\n",
       "      <td>2024-09-18</td>\n",
       "      <td>5.57</td>\n",
       "      <td>5.68</td>\n",
       "      <td>5.68</td>\n",
       "      <td>5.57</td>\n",
       "      <td>601398</td>\n",
       "      <td>2024-09-27 00:54:44.414351</td>\n",
       "    </tr>\n",
       "    <tr>\n",
       "      <th>11</th>\n",
       "      <td>2024-09-19</td>\n",
       "      <td>5.69</td>\n",
       "      <td>5.65</td>\n",
       "      <td>5.71</td>\n",
       "      <td>5.58</td>\n",
       "      <td>601398</td>\n",
       "      <td>2024-09-27 00:54:44.414351</td>\n",
       "    </tr>\n",
       "    <tr>\n",
       "      <th>12</th>\n",
       "      <td>2024-09-20</td>\n",
       "      <td>5.66</td>\n",
       "      <td>5.67</td>\n",
       "      <td>5.69</td>\n",
       "      <td>5.62</td>\n",
       "      <td>601398</td>\n",
       "      <td>2024-09-27 00:54:44.414351</td>\n",
       "    </tr>\n",
       "    <tr>\n",
       "      <th>13</th>\n",
       "      <td>2024-09-23</td>\n",
       "      <td>5.66</td>\n",
       "      <td>5.72</td>\n",
       "      <td>5.74</td>\n",
       "      <td>5.62</td>\n",
       "      <td>601398</td>\n",
       "      <td>2024-09-27 00:54:44.414351</td>\n",
       "    </tr>\n",
       "    <tr>\n",
       "      <th>14</th>\n",
       "      <td>2024-09-24</td>\n",
       "      <td>5.75</td>\n",
       "      <td>6.00</td>\n",
       "      <td>6.00</td>\n",
       "      <td>5.73</td>\n",
       "      <td>601398</td>\n",
       "      <td>2024-09-27 00:54:44.414351</td>\n",
       "    </tr>\n",
       "    <tr>\n",
       "      <th>15</th>\n",
       "      <td>2024-09-25</td>\n",
       "      <td>6.09</td>\n",
       "      <td>6.04</td>\n",
       "      <td>6.22</td>\n",
       "      <td>5.97</td>\n",
       "      <td>601398</td>\n",
       "      <td>2024-09-27 00:54:44.414351</td>\n",
       "    </tr>\n",
       "    <tr>\n",
       "      <th>16</th>\n",
       "      <td>2024-09-26</td>\n",
       "      <td>6.04</td>\n",
       "      <td>6.20</td>\n",
       "      <td>6.21</td>\n",
       "      <td>6.00</td>\n",
       "      <td>601398</td>\n",
       "      <td>2024-09-27 00:54:44.414351</td>\n",
       "    </tr>\n",
       "  </tbody>\n",
       "</table>\n",
       "</div>"
      ],
      "text/plain": [
       "          date  open  close  high   low  stock_index  \\\n",
       "5   2024-09-09  5.63   5.61  5.65  5.51       601398   \n",
       "6   2024-09-10  5.61   5.67  5.72  5.60       601398   \n",
       "7   2024-09-11  5.66   5.54  5.67  5.50       601398   \n",
       "8   2024-09-12  5.51   5.54  5.56  5.45       601398   \n",
       "9   2024-09-13  5.54   5.56  5.58  5.52       601398   \n",
       "10  2024-09-18  5.57   5.68  5.68  5.57       601398   \n",
       "11  2024-09-19  5.69   5.65  5.71  5.58       601398   \n",
       "12  2024-09-20  5.66   5.67  5.69  5.62       601398   \n",
       "13  2024-09-23  5.66   5.72  5.74  5.62       601398   \n",
       "14  2024-09-24  5.75   6.00  6.00  5.73       601398   \n",
       "15  2024-09-25  6.09   6.04  6.22  5.97       601398   \n",
       "16  2024-09-26  6.04   6.20  6.21  6.00       601398   \n",
       "\n",
       "                   update_time  \n",
       "5   2024-09-27 00:54:44.414351  \n",
       "6   2024-09-27 00:54:44.414351  \n",
       "7   2024-09-27 00:54:44.414351  \n",
       "8   2024-09-27 00:54:44.414351  \n",
       "9   2024-09-27 00:54:44.414351  \n",
       "10  2024-09-27 00:54:44.414351  \n",
       "11  2024-09-27 00:54:44.414351  \n",
       "12  2024-09-27 00:54:44.414351  \n",
       "13  2024-09-27 00:54:44.414351  \n",
       "14  2024-09-27 00:54:44.414351  \n",
       "15  2024-09-27 00:54:44.414351  \n",
       "16  2024-09-27 00:54:44.414351  "
      ]
     },
     "execution_count": 153,
     "metadata": {},
     "output_type": "execute_result"
    }
   ],
   "source": [
    "df1.tail(12)"
   ]
  },
  {
   "cell_type": "code",
   "execution_count": 171,
   "metadata": {},
   "outputs": [
    {
     "name": "stdout",
     "output_type": "stream",
     "text": [
      "          date  open  close  high   low  stock_index  \\\n",
      "60  2024-09-25  6.09   6.04  6.22  5.97       601398   \n",
      "\n",
      "                   update_time  \n",
      "60  2024-09-27 00:54:44.414351  \n",
      "6.57\n",
      "===== predict =====\n"
     ]
    },
    {
     "data": {
      "text/plain": [
       "tensor(6.0911)"
      ]
     },
     "execution_count": 171,
     "metadata": {},
     "output_type": "execute_result"
    }
   ],
   "source": [
    "model_path = os.path.join(ProjectDir.model_dir,\"ts_pred_lstm\",\"lstm_50_error_0.02_test.pth\")\n",
    "model = LSTMModel(input_size=50, hidden_size=hidden_size, output_size=output_size)\n",
    "model.load_state_dict(torch.load(model_path))\n",
    "i=\"601398\"\n",
    "date_cut = \"2024-07-01\"\n",
    "input_sql_str = FGetDataSql.get_data_sql_str_before_years(i,date_cut)\n",
    "df1 = pd.read_sql_query(input_sql_str, conn)\n",
    "#test_data = df1.tail(50)\n",
    "test_data = df1.tail(51).iloc[0:50,:]\n",
    "print(test_data.tail(1))\n",
    "testx = np.array(test_data[\"high\"])\n",
    "testx_v1 = np.array([testx])\n",
    "testx_v2 = np.reshape(testx_v1, (testx_v1.shape[0], 1, testx_v1.shape[1]))\n",
    "max_values_X = np.max(testx_v2, axis=(1, 2), keepdims=True)\n",
    "testx_v3 = testx_v2/max_values_X\n",
    "testX_tens = torch.tensor(testx_v3, dtype=torch.float32)\n",
    "with torch.no_grad():\n",
    "    #model.eval()\n",
    "    testPredict = model(testX_tens)\n",
    "print(max_values_X[0][0][0])\n",
    "print(\"===== predict =====\")\n",
    "testPredict[0][0]*max_values_X[0][0][0]"
   ]
  },
  {
   "cell_type": "code",
   "execution_count": 169,
   "metadata": {},
   "outputs": [
    {
     "data": {
      "text/html": [
       "<div>\n",
       "<style scoped>\n",
       "    .dataframe tbody tr th:only-of-type {\n",
       "        vertical-align: middle;\n",
       "    }\n",
       "\n",
       "    .dataframe tbody tr th {\n",
       "        vertical-align: top;\n",
       "    }\n",
       "\n",
       "    .dataframe thead th {\n",
       "        text-align: right;\n",
       "    }\n",
       "</style>\n",
       "<table border=\"1\" class=\"dataframe\">\n",
       "  <thead>\n",
       "    <tr style=\"text-align: right;\">\n",
       "      <th></th>\n",
       "      <th>date</th>\n",
       "      <th>open</th>\n",
       "      <th>close</th>\n",
       "      <th>high</th>\n",
       "      <th>low</th>\n",
       "      <th>stock_index</th>\n",
       "      <th>update_time</th>\n",
       "    </tr>\n",
       "  </thead>\n",
       "  <tbody>\n",
       "    <tr>\n",
       "      <th>52</th>\n",
       "      <td>2024-09-11</td>\n",
       "      <td>5.66</td>\n",
       "      <td>5.54</td>\n",
       "      <td>5.67</td>\n",
       "      <td>5.50</td>\n",
       "      <td>601398</td>\n",
       "      <td>2024-09-27 00:54:44.414351</td>\n",
       "    </tr>\n",
       "    <tr>\n",
       "      <th>53</th>\n",
       "      <td>2024-09-12</td>\n",
       "      <td>5.51</td>\n",
       "      <td>5.54</td>\n",
       "      <td>5.56</td>\n",
       "      <td>5.45</td>\n",
       "      <td>601398</td>\n",
       "      <td>2024-09-27 00:54:44.414351</td>\n",
       "    </tr>\n",
       "    <tr>\n",
       "      <th>54</th>\n",
       "      <td>2024-09-13</td>\n",
       "      <td>5.54</td>\n",
       "      <td>5.56</td>\n",
       "      <td>5.58</td>\n",
       "      <td>5.52</td>\n",
       "      <td>601398</td>\n",
       "      <td>2024-09-27 00:54:44.414351</td>\n",
       "    </tr>\n",
       "    <tr>\n",
       "      <th>55</th>\n",
       "      <td>2024-09-18</td>\n",
       "      <td>5.57</td>\n",
       "      <td>5.68</td>\n",
       "      <td>5.68</td>\n",
       "      <td>5.57</td>\n",
       "      <td>601398</td>\n",
       "      <td>2024-09-27 00:54:44.414351</td>\n",
       "    </tr>\n",
       "    <tr>\n",
       "      <th>56</th>\n",
       "      <td>2024-09-19</td>\n",
       "      <td>5.69</td>\n",
       "      <td>5.65</td>\n",
       "      <td>5.71</td>\n",
       "      <td>5.58</td>\n",
       "      <td>601398</td>\n",
       "      <td>2024-09-27 00:54:44.414351</td>\n",
       "    </tr>\n",
       "    <tr>\n",
       "      <th>57</th>\n",
       "      <td>2024-09-20</td>\n",
       "      <td>5.66</td>\n",
       "      <td>5.67</td>\n",
       "      <td>5.69</td>\n",
       "      <td>5.62</td>\n",
       "      <td>601398</td>\n",
       "      <td>2024-09-27 00:54:44.414351</td>\n",
       "    </tr>\n",
       "    <tr>\n",
       "      <th>58</th>\n",
       "      <td>2024-09-23</td>\n",
       "      <td>5.66</td>\n",
       "      <td>5.72</td>\n",
       "      <td>5.74</td>\n",
       "      <td>5.62</td>\n",
       "      <td>601398</td>\n",
       "      <td>2024-09-27 00:54:44.414351</td>\n",
       "    </tr>\n",
       "    <tr>\n",
       "      <th>59</th>\n",
       "      <td>2024-09-24</td>\n",
       "      <td>5.75</td>\n",
       "      <td>6.00</td>\n",
       "      <td>6.00</td>\n",
       "      <td>5.73</td>\n",
       "      <td>601398</td>\n",
       "      <td>2024-09-27 00:54:44.414351</td>\n",
       "    </tr>\n",
       "    <tr>\n",
       "      <th>60</th>\n",
       "      <td>2024-09-25</td>\n",
       "      <td>6.09</td>\n",
       "      <td>6.04</td>\n",
       "      <td>6.22</td>\n",
       "      <td>5.97</td>\n",
       "      <td>601398</td>\n",
       "      <td>2024-09-27 00:54:44.414351</td>\n",
       "    </tr>\n",
       "    <tr>\n",
       "      <th>61</th>\n",
       "      <td>2024-09-26</td>\n",
       "      <td>6.04</td>\n",
       "      <td>6.20</td>\n",
       "      <td>6.21</td>\n",
       "      <td>6.00</td>\n",
       "      <td>601398</td>\n",
       "      <td>2024-09-27 00:54:44.414351</td>\n",
       "    </tr>\n",
       "  </tbody>\n",
       "</table>\n",
       "</div>"
      ],
      "text/plain": [
       "          date  open  close  high   low  stock_index  \\\n",
       "52  2024-09-11  5.66   5.54  5.67  5.50       601398   \n",
       "53  2024-09-12  5.51   5.54  5.56  5.45       601398   \n",
       "54  2024-09-13  5.54   5.56  5.58  5.52       601398   \n",
       "55  2024-09-18  5.57   5.68  5.68  5.57       601398   \n",
       "56  2024-09-19  5.69   5.65  5.71  5.58       601398   \n",
       "57  2024-09-20  5.66   5.67  5.69  5.62       601398   \n",
       "58  2024-09-23  5.66   5.72  5.74  5.62       601398   \n",
       "59  2024-09-24  5.75   6.00  6.00  5.73       601398   \n",
       "60  2024-09-25  6.09   6.04  6.22  5.97       601398   \n",
       "61  2024-09-26  6.04   6.20  6.21  6.00       601398   \n",
       "\n",
       "                   update_time  \n",
       "52  2024-09-27 00:54:44.414351  \n",
       "53  2024-09-27 00:54:44.414351  \n",
       "54  2024-09-27 00:54:44.414351  \n",
       "55  2024-09-27 00:54:44.414351  \n",
       "56  2024-09-27 00:54:44.414351  \n",
       "57  2024-09-27 00:54:44.414351  \n",
       "58  2024-09-27 00:54:44.414351  \n",
       "59  2024-09-27 00:54:44.414351  \n",
       "60  2024-09-27 00:54:44.414351  \n",
       "61  2024-09-27 00:54:44.414351  "
      ]
     },
     "execution_count": 169,
     "metadata": {},
     "output_type": "execute_result"
    }
   ],
   "source": [
    "df1.tail(10)"
   ]
  },
  {
   "cell_type": "code",
   "execution_count": 91,
   "metadata": {},
   "outputs": [
    {
     "data": {
      "image/png": "[encoded data removed]",
      "text/plain": [
       "<Figure size 432x288 with 1 Axes>"
      ]
     },
     "metadata": {
      "needs_background": "light"
     },
     "output_type": "display_data"
    }
   ],
   "source": [
    "# Evaluation\n",
    "with torch.no_grad():\n",
    "    model.eval()\n",
    "    testPredict = model(testX_tens)\n",
    "\n",
    "# Plot results\n",
    "index = range(len(testY))\n",
    "plt.plot(index, testY, label=\"Ground truth\")\n",
    "plt.plot(index, testPredict.numpy(), label=\"Predicted\")\n",
    "plt.legend()\n",
    "plt.show()"
   ]
  }
 ],
 "metadata": {
  "kernelspec": {
   "display_name": "base",
   "language": "python",
   "name": "python3"
  },
  "language_info": {
   "codemirror_mode": {
    "name": "ipython",
    "version": 3
   },
   "file_extension": ".py",
   "mimetype": "text/x-python",
   "name": "python",
   "nbconvert_exporter": "python",
   "pygments_lexer": "ipython3",
   "version": "3.7.5"
  }
 },
 "nbformat": 4,
 "nbformat_minor": 2
}
