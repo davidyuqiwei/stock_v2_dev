{
 "cells": [
  {
   "cell_type": "code",
   "execution_count": 3,
   "metadata": {},
   "outputs": [
    {
     "name": "stdout",
     "output_type": "stream",
     "text": [
      "============ import stock list:  stock_list   ================\n"
     ]
    }
   ],
   "source": [
    "import math\n",
    "from scripts_stock.cfg.out_file_name import OutFileName\n",
    "from scripts_stock.cfg.set_dir import ProjectDir\n",
    "from scripts_stock.cfg.stock_list import *\n",
    "from scripts_stock.utils.analysis.stock_stat_index import df_to_stock_df, stock_kdj\n",
    "import os\n",
    "from scripts_stock.utils.common import CommonScript\n",
    "from scripts_stock.utils.string_process import StringProcess\n"
   ]
  },
  {
   "cell_type": "code",
   "execution_count": 7,
   "metadata": {},
   "outputs": [
    {
     "name": "stdout",
     "output_type": "stream",
     "text": [
      "           date    open   close    high     low  stock_index   date_time  \\\n",
      "0    2024-11-22    7.22    6.99    7.26    6.97       600011  2024-11-22   \n",
      "1    2024-11-22   24.94   24.23   24.98   24.22          895  2024-11-22   \n",
      "2    2024-11-22    1.95    1.94    2.00    1.90       600010  2024-11-22   \n",
      "3    2024-11-22   57.06   56.01   57.19   56.01       600660  2024-11-22   \n",
      "4    2024-11-22    6.50    6.42    6.60    6.40       601728  2024-11-22   \n",
      "..          ...     ...     ...     ...     ...          ...         ...   \n",
      "246  2024-11-22    6.26    6.13    6.35    6.13          877  2024-11-22   \n",
      "247  2024-11-22    7.92    7.50    7.93    7.48       600061  2024-11-22   \n",
      "248  2024-11-22  141.64  136.29  142.00  136.18          568  2024-11-22   \n",
      "249  2024-11-22   41.05   38.92   41.50   38.83       600584  2024-11-22   \n",
      "250  2024-11-22   42.12   41.08   43.88   41.00         2460  2024-11-22   \n",
      "\n",
      "     stock_date  macdh      cci  ...    kdjk    kdjd    kdjj  boll_ub  \\\n",
      "0    2024-11-22 -0.029 -156.103  ...  25.397  32.155  11.880    7.447   \n",
      "1    2024-11-22 -0.114 -147.234  ...  21.604  29.634   5.546   25.709   \n",
      "2    2024-11-22 -0.026  -51.099  ...  24.504  29.226  15.058    2.258   \n",
      "3    2024-11-22 -0.335 -215.317  ...  15.142  21.384   2.656   58.831   \n",
      "4    2024-11-22 -0.016  -55.896  ...  30.145  40.242   9.950    6.741   \n",
      "..          ...    ...      ...  ...     ...     ...     ...      ...   \n",
      "246  2024-11-22 -0.075 -141.257  ...  15.615  26.042  -5.238    6.782   \n",
      "247  2024-11-22 -0.102 -148.657  ...  17.551  24.541   3.571    8.568   \n",
      "248  2024-11-22 -1.419 -119.630  ...  20.290  31.594  -2.319  152.373   \n",
      "249  2024-11-22 -0.711 -122.389  ...  15.261  29.283 -12.785   46.802   \n",
      "250  2024-11-22  0.151   55.412  ...  60.332  63.889  53.219   45.581   \n",
      "\n",
      "     boll_lb   macd  macds     wr_6    wr_10                 update_time  \n",
      "0      7.020 -0.019  0.011   94.444   95.652  2024-11-23 02:13:00.449711  \n",
      "1     24.194  0.023  0.137   99.010   99.371  2024-11-23 02:13:00.449711  \n",
      "2      1.627  0.069  0.095   40.000   76.923  2024-11-23 02:13:00.449711  \n",
      "3     56.111  0.129  0.464  100.000  100.000  2024-11-23 02:13:00.449711  \n",
      "4      6.290  0.044  0.060   96.491   88.710  2024-11-23 02:13:00.449711  \n",
      "..       ...    ...    ...      ...      ...                         ...  \n",
      "246    5.893  0.170  0.245  100.000  100.000  2024-11-23 02:13:00.449711  \n",
      "247    7.387  0.111  0.213   96.825   97.727  2024-11-23 02:13:00.449711  \n",
      "248  132.516  1.942  3.361   99.069   99.276  2024-11-23 02:13:00.449711  \n",
      "249   36.442  1.057  1.768   98.819   99.010  2024-11-23 02:13:00.449711  \n",
      "250   30.449  2.674  2.523   49.583   44.941  2024-11-23 02:13:00.449711  \n",
      "\n",
      "[251 rows x 23 columns]\n"
     ]
    }
   ],
   "source": [
    "\n",
    "def get_data_sql_str_macd():\n",
    "    return f\"\"\"SELECT *  FROM t_stock_kdj_daily_last \"\"\"\n",
    "\n",
    "# t_stock_kdj_weekly_last\n",
    "conn = CommonScript.connect_to_db(\"test.db\")\n",
    "cursor = conn.cursor()\n",
    "df1 = pd.read_sql_query(get_data_sql_str_macd(),conn)\n",
    "print(df1)"
   ]
  },
  {
   "cell_type": "code",
   "execution_count": 10,
   "metadata": {},
   "outputs": [],
   "source": [
    "df1[\"stock_index\"] =df1[\"stock_index\"].astype(str)"
   ]
  },
  {
   "cell_type": "code",
   "execution_count": 12,
   "metadata": {},
   "outputs": [
    {
     "ename": "AttributeError",
     "evalue": "module 'pygwalker' has no attribute 'pipeline'",
     "output_type": "error",
     "traceback": [
      "\u001b[0;31m---------------------------------------------------------------------------\u001b[0m",
      "\u001b[0;31mAttributeError\u001b[0m                            Traceback (most recent call last)",
      "\u001b[0;32m<ipython-input-12-1453a78a3156>\u001b[0m in \u001b[0;36m<module>\u001b[0;34m\u001b[0m\n\u001b[0;32m----> 1\u001b[0;31m \u001b[0mpipeline\u001b[0m \u001b[0;34m=\u001b[0m \u001b[0mpyg\u001b[0m\u001b[0;34m.\u001b[0m\u001b[0mpipeline\u001b[0m\u001b[0;34m(\u001b[0m\u001b[0;34m)\u001b[0m\u001b[0;34m\u001b[0m\u001b[0;34m\u001b[0m\u001b[0m\n\u001b[0m",
      "\u001b[0;31mAttributeError\u001b[0m: module 'pygwalker' has no attribute 'pipeline'"
     ]
    }
   ],
   "source": [
    "pipeline = pyg.pipeline()"
   ]
  },
  {
   "cell_type": "code",
   "execution_count": 11,
   "metadata": {},
   "outputs": [
    {
     "data": {
      "application/vnd.jupyter.widget-view+json": {
       "model_id": "b817fe79715d49eba544f4a0f5f12e7b",
       "version_major": 2,
       "version_minor": 0
      },
      "text/plain": [
       "Box(children=(HTML(value='\\n<div id=\"ifr-pyg-000627900250cc7akc4GAJWMZlbgsoFh\" style=\"height: auto\">\\n    <hea…"
      ]
     },
     "metadata": {},
     "output_type": "display_data"
    },
    {
     "data": {
      "text/html": [
       "<script>\n",
       "    window.addEventListener(\"message\", function(event) {\n",
       "        const backgroundMap = {\n",
       "            \"dark\": \"hsl(240 10% 3.9%)\",\n",
       "            \"light\": \"hsl(0 0 100%)\",\n",
       "        };\n",
       "        const colorMap = {\n",
       "            \"dark\": \"hsl(0 0% 98%)\",\n",
       "            \"light\": \"hsl(240 10% 3.9%)\",\n",
       "        };\n",
       "        if (event.data.action === \"changeAppearance\" && event.data.gid === \"000627900250cc7akc4GAJWMZlbgsoFh\") {\n",
       "            var iframe = document.getElementById(\"gwalker-000627900250cc7akc4GAJWMZlbgsoFh\");\n",
       "            iframe.style.background  = backgroundMap[event.data.appearance];\n",
       "            iframe.style.color = colorMap[event.data.appearance];\n",
       "        }\n",
       "    });\n",
       "</script>"
      ],
      "text/plain": [
       "<IPython.core.display.HTML object>"
      ]
     },
     "metadata": {},
     "output_type": "display_data"
    },
    {
     "data": {
      "text/html": [],
      "text/plain": [
       "<IPython.core.display.HTML object>"
      ]
     },
     "metadata": {},
     "output_type": "display_data"
    }
   ],
   "source": [
    "import pygwalker as pyg\n",
    "gwalker = pyg.walk(df1)   "
   ]
  }
 ],
 "metadata": {
  "kernelspec": {
   "display_name": "base",
   "language": "python",
   "name": "python3"
  },
  "language_info": {
   "codemirror_mode": {
    "name": "ipython",
    "version": 3
   },
   "file_extension": ".py",
   "mimetype": "text/x-python",
   "name": "python",
   "nbconvert_exporter": "python",
   "pygments_lexer": "ipython3",
   "version": "3.7.5"
  }
 },
 "nbformat": 4,
 "nbformat_minor": 2
}
