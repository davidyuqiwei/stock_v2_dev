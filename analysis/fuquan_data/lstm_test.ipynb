{
 "cells": [
  {
   "cell_type": "code",
   "execution_count": 164,
   "metadata": {},
   "outputs": [],
   "source": [
    "import math\n",
    "from scripts_stock.cfg.out_file_name import OutFileName\n",
    "from scripts_stock.cfg.set_dir import ProjectDir\n",
    "from scripts_stock.cfg.stock_list import *\n",
    "from scripts_stock.utils.analysis.stock_stat_index import df_to_stock_df, stock_kdj\n",
    "import os\n",
    "from scripts_stock.utils.common import CommonScript\n",
    "from scripts_stock.utils.string_process import StringProcess\n",
    "\n",
    "\n",
    "def get_data_sql_str(table):\n",
    "    return f\"\"\"SELECT *  FROM {table} limit 10 \"\"\"\n",
    "\n",
    "def get_data_sql_str_macd(stock_index):\n",
    "    return f\"\"\"SELECT *  FROM t_stock_kdj_daily_all where date>='2022-9-23' and stock_index={stock_index} \"\"\"\n",
    "\n",
    "def get_train_data():\n",
    "    aa = f\"\"\"\n",
    "    select t1.*,t2.diff_5,t2.diff_3_cate,t2.diff_5_cate,t2.diff_7_cate\n",
    "    from t_stock_kdj_daily_all AS t1\n",
    "    join t_stock_return_fuquan AS t2\n",
    "    on t1.date=t2.date and t1.stock_index=t2.stock_index\n",
    "    where close<8 and t2.date<='2024-09-01' and t2.date>='2023-01-01'\n",
    "    \"\"\"\n",
    "    return aa\n",
    "\n",
    "def get_predict_data():\n",
    "    aa = f\"\"\"\n",
    "    select t1.*,t2.diff_5,t2.diff_3_cate,t2.diff_5_cate,t2.diff_7_cate\n",
    "    from t_stock_kdj_daily_all AS t1\n",
    "    join t_stock_return_fuquan AS t2\n",
    "    on t1.date=t2.date and t1.stock_index=t2.stock_index\n",
    "    where close<8 and t2.date>='2024-09-01'\n",
    "    \"\"\"\n",
    "    return aa"
   ]
  },
  {
   "cell_type": "code",
   "execution_count": 165,
   "metadata": {},
   "outputs": [
    {
     "data": {
      "text/html": [
       "<div>\n",
       "<style scoped>\n",
       "    .dataframe tbody tr th:only-of-type {\n",
       "        vertical-align: middle;\n",
       "    }\n",
       "\n",
       "    .dataframe tbody tr th {\n",
       "        vertical-align: top;\n",
       "    }\n",
       "\n",
       "    .dataframe thead th {\n",
       "        text-align: right;\n",
       "    }\n",
       "</style>\n",
       "<table border=\"1\" class=\"dataframe\">\n",
       "  <thead>\n",
       "    <tr style=\"text-align: right;\">\n",
       "      <th></th>\n",
       "      <th>macdh</th>\n",
       "      <th>cci</th>\n",
       "      <th>rsi_6</th>\n",
       "      <th>rsi_12</th>\n",
       "      <th>rsi_24</th>\n",
       "      <th>kdjk</th>\n",
       "      <th>kdjd</th>\n",
       "      <th>kdjj</th>\n",
       "      <th>boll_ub</th>\n",
       "      <th>boll_lb</th>\n",
       "      <th>boll_diff</th>\n",
       "      <th>macd</th>\n",
       "      <th>macds</th>\n",
       "      <th>wr_6</th>\n",
       "      <th>wr_10</th>\n",
       "    </tr>\n",
       "    <tr>\n",
       "      <th>diff_5_cate</th>\n",
       "      <th></th>\n",
       "      <th></th>\n",
       "      <th></th>\n",
       "      <th></th>\n",
       "      <th></th>\n",
       "      <th></th>\n",
       "      <th></th>\n",
       "      <th></th>\n",
       "      <th></th>\n",
       "      <th></th>\n",
       "      <th></th>\n",
       "      <th></th>\n",
       "      <th></th>\n",
       "      <th></th>\n",
       "      <th></th>\n",
       "    </tr>\n",
       "  </thead>\n",
       "  <tbody>\n",
       "    <tr>\n",
       "      <th>0.0</th>\n",
       "      <td>13673</td>\n",
       "      <td>13673</td>\n",
       "      <td>13673</td>\n",
       "      <td>13673</td>\n",
       "      <td>13673</td>\n",
       "      <td>13673</td>\n",
       "      <td>13673</td>\n",
       "      <td>13673</td>\n",
       "      <td>13673</td>\n",
       "      <td>13673</td>\n",
       "      <td>13673</td>\n",
       "      <td>13673</td>\n",
       "      <td>13673</td>\n",
       "      <td>13673</td>\n",
       "      <td>13673</td>\n",
       "    </tr>\n",
       "    <tr>\n",
       "      <th>1.0</th>\n",
       "      <td>12722</td>\n",
       "      <td>12722</td>\n",
       "      <td>12722</td>\n",
       "      <td>12722</td>\n",
       "      <td>12722</td>\n",
       "      <td>12722</td>\n",
       "      <td>12722</td>\n",
       "      <td>12722</td>\n",
       "      <td>12722</td>\n",
       "      <td>12722</td>\n",
       "      <td>12722</td>\n",
       "      <td>12722</td>\n",
       "      <td>12722</td>\n",
       "      <td>12722</td>\n",
       "      <td>12722</td>\n",
       "    </tr>\n",
       "  </tbody>\n",
       "</table>\n",
       "</div>"
      ],
      "text/plain": [
       "             macdh    cci  rsi_6  rsi_12  rsi_24   kdjk   kdjd   kdjj  \\\n",
       "diff_5_cate                                                             \n",
       "0.0          13673  13673  13673   13673   13673  13673  13673  13673   \n",
       "1.0          12722  12722  12722   12722   12722  12722  12722  12722   \n",
       "\n",
       "             boll_ub  boll_lb  boll_diff   macd  macds   wr_6  wr_10  \n",
       "diff_5_cate                                                           \n",
       "0.0            13673    13673      13673  13673  13673  13673  13673  \n",
       "1.0            12722    12722      12722  12722  12722  12722  12722  "
      ]
     },
     "execution_count": 165,
     "metadata": {},
     "output_type": "execute_result"
    }
   ],
   "source": [
    "conn = CommonScript.connect_to_db(\"test.db\")\n",
    "cursor = conn.cursor()\n",
    "df1 = pd.read_sql_query(get_train_data(),conn)\n",
    "# df1 = df1[df1[\"stock_index\"]==601398]\n",
    "df1[\"boll_diff\"]= df1[\"boll_ub\"] - df1[\"boll_lb\"]\n",
    "#df1.columns\n",
    "features = [ 'macdh', 'cci', 'rsi_6', 'rsi_12', 'rsi_24', 'kdjk',\n",
    "       'kdjd', 'kdjj', 'boll_ub', 'boll_lb','boll_diff', 'macd', 'macds', 'wr_6', 'wr_10']\n",
    "df_pred_y = ['diff_5_cate']\n",
    "\n",
    "df2 = df1[features+df_pred_y].dropna()\n",
    "#print(df1.head(5))\n",
    "df2.groupby(df_pred_y[0]).count()"
   ]
  },
  {
   "cell_type": "code",
   "execution_count": 166,
   "metadata": {},
   "outputs": [],
   "source": [
    "from sklearn import tree#导入模块\n",
    "from sklearn.model_selection import train_test_split\n",
    "X = df2[features]\n",
    "Y = df2[df_pred_y[0]]\n",
    "x_train,x_test,y_train,y_test=train_test_split(X,Y,test_size=0.2)"
   ]
  },
  {
   "cell_type": "code",
   "execution_count": null,
   "metadata": {},
   "outputs": [],
   "source": []
  },
  {
   "cell_type": "code",
   "execution_count": 167,
   "metadata": {},
   "outputs": [],
   "source": [
    "import torch\n",
    "import torch.nn as nn\n",
    "import numpy as np\n",
    "import pandas as pd\n",
    "import matplotlib.pyplot as plt \n",
    "import torch.utils.data\n",
    "\n"
   ]
  },
  {
   "cell_type": "code",
   "execution_count": 168,
   "metadata": {},
   "outputs": [],
   "source": [
    "# # Define parameters\n",
    "# step_size = 4\n",
    "# N = 800\n",
    "# forecast_start = 720\n",
    "\n",
    "# # Generate data\n",
    "# t = np.arange(0, N)\n",
    "# x = np.sin(0.02 * t) + 2 * np.random.rand(N)\n",
    "# df = pd.DataFrame(x)\n",
    "\n",
    "# # Plot data\n",
    "# plt.plot(df)\n",
    "# plt.axvline(df.index[forecast_start], c=\"r\", label=\"forecast start point\")\n",
    "# plt.legend()\n",
    "# plt.show()"
   ]
  },
  {
   "cell_type": "code",
   "execution_count": 169,
   "metadata": {},
   "outputs": [],
   "source": [
    "def create_labels(data, step):\n",
    "    X = np.array([data[i:i+step] for i in range(len(data) - step)])\n",
    "    y = np.array(data[step:])\n",
    "    return X, y"
   ]
  },
  {
   "cell_type": "code",
   "execution_count": 170,
   "metadata": {},
   "outputs": [],
   "source": [
    "# # Prepare data for training and testing\n",
    "# values = df.values\n",
    "# train, test = values[:forecast_start, :], values[forecast_start:N, :]\n",
    "\n",
    "# # generate sequence data\n",
    "# trainX, trainY = create_labels(train, step_size)\n",
    "# testX, testY = create_labels(test, step_size)\n",
    "\n",
    "# # Reshape data for LSTM input\n",
    "# trainX = np.reshape(trainX, (trainX.shape[0], 1, trainX.shape[1]))\n",
    "# testX = np.reshape(testX, (testX.shape[0], 1, testX.shape[1]))\n",
    "\n",
    "# trainY.shape"
   ]
  },
  {
   "cell_type": "code",
   "execution_count": null,
   "metadata": {},
   "outputs": [],
   "source": []
  },
  {
   "cell_type": "code",
   "execution_count": 171,
   "metadata": {},
   "outputs": [],
   "source": [
    "aa = x_train.values\n",
    "\n",
    "trainX = np.reshape(x_train.values, (x_train.values.shape[0], 1, x_train.values.shape[1]))\n",
    "trainY = y_train.values.reshape(y_train.values.shape[0],1)\n",
    "trainY.shape\n",
    "\n",
    "testX = np.reshape(x_test.values, (x_test.values.shape[0], 1, x_test.values.shape[1]))\n",
    "testY = y_test.values.reshape(y_test.values.shape[0],1)\n",
    "\n"
   ]
  },
  {
   "cell_type": "code",
   "execution_count": 172,
   "metadata": {},
   "outputs": [],
   "source": [
    "\n",
    "## stock data\n",
    "# aa = x_train.values\n",
    "\n",
    "# trainX = np.reshape(aa, (aa.shape[0], 1, aa.shape[1]))\n",
    "# trainY = y_train.values.reshape(156942,1).shape\n",
    "\n",
    "\n",
    "# Convert data to PyTorch tensors\n",
    "trainX_tens = torch.tensor(trainX, dtype=torch.float32)\n",
    "trainY_tens = torch.tensor(trainY, dtype=torch.float32)\n",
    "testX_tens = torch.tensor(testX, dtype=torch.float32)\n",
    "testY_tens = torch.tensor(testY, dtype=torch.float32)\n",
    "\n",
    "# Create DataLoader for training\n",
    "train_dataset = torch.utils.data.TensorDataset(trainX_tens, trainY_tens)\n",
    "train_loader = torch.utils.data.DataLoader(train_dataset, batch_size=64)"
   ]
  },
  {
   "cell_type": "code",
   "execution_count": 173,
   "metadata": {},
   "outputs": [],
   "source": [
    "# Define LSTM model\n",
    "class LSTMModel(nn.Module):\n",
    "    def __init__(self, input_size, hidden_size, output_size):\n",
    "        super(LSTMModel, self).__init__()\n",
    "        self.lstm = nn.LSTM(input_size, hidden_size, batch_first=True)\n",
    "        self.fc = nn.Linear(hidden_size, output_size)\n",
    "\n",
    "    def forward(self, x):\n",
    "        out, _ = self.lstm(x)\n",
    "        out = self.fc(out[:, -1, :])  # Take the last time step's output\n",
    "        return out\n",
    " "
   ]
  },
  {
   "cell_type": "code",
   "execution_count": 174,
   "metadata": {},
   "outputs": [],
   "source": [
    "# Hyperparameters\n",
    "input_size = 15\n",
    "hidden_size = 128\n",
    "output_size = 1\n",
    "epochs = 100\n",
    "learning_rate = 0.01\n",
    " \n",
    "# Instantiate LSTM model\n",
    "model = LSTMModel(input_size=input_size, hidden_size=hidden_size, output_size=output_size)\n",
    "\n",
    "# Define loss function and optimizer\n",
    "criterion = nn.MSELoss()\n",
    "optimizer = torch.optim.Adam(model.parameters(), lr=learning_rate)"
   ]
  },
  {
   "cell_type": "code",
   "execution_count": 175,
   "metadata": {},
   "outputs": [
    {
     "name": "stdout",
     "output_type": "stream",
     "text": [
      "Epoch [10/100], Loss: 0.2581\n",
      "Epoch [20/100], Loss: 0.2535\n",
      "Epoch [30/100], Loss: 0.2553\n",
      "Epoch [40/100], Loss: 0.2555\n",
      "Epoch [50/100], Loss: 0.2533\n",
      "Epoch [60/100], Loss: 0.2540\n",
      "Epoch [70/100], Loss: 0.2541\n",
      "Epoch [80/100], Loss: 0.2574\n",
      "Epoch [90/100], Loss: 0.2590\n",
      "Epoch [100/100], Loss: 0.2620\n"
     ]
    }
   ],
   "source": [
    "# Train the model\n",
    "for epoch in range(epochs):\n",
    "    model.train()\n",
    "    for batch_X, batch_Y in train_loader:\n",
    "        optimizer.zero_grad()  # Clears the gradients of all optimized parameters.\n",
    "        output = model(batch_X)\n",
    "\n",
    "        # Computes the loss between the model predictions and the ground\n",
    "        # truth labels for the current mini-batch.\n",
    "        loss = criterion(output, batch_Y)\n",
    "\n",
    "        # Computes gradients of the loss with respect to model parameters.\n",
    "        loss.backward()\n",
    "\n",
    "        # Updates model parameters based on the computed gradients using\n",
    "        # the specified optimization algorithm.\n",
    "        optimizer.step()\n",
    "\n",
    "    if (epoch + 1) % 10 == 0:\n",
    "        print(f'Epoch [{epoch + 1}/{epochs}], Loss: {loss.item():.4f}')"
   ]
  },
  {
   "cell_type": "code",
   "execution_count": 176,
   "metadata": {},
   "outputs": [
    {
     "name": "stdout",
     "output_type": "stream",
     "text": [
      "0.4836143208941087\n"
     ]
    }
   ],
   "source": [
    "with torch.no_grad():\n",
    "    a1 = model(trainX_tens).numpy()\n",
    "a2 = [x[0] for x in a1]\n",
    "a3 = [1 if x>0.5 else 0 for x in a2 ]\n",
    "from sklearn.metrics import accuracy_score\n",
    "print(accuracy_score(y_train,a3))\n"
   ]
  },
  {
   "cell_type": "code",
   "execution_count": null,
   "metadata": {},
   "outputs": [],
   "source": []
  }
 ],
 "metadata": {
  "kernelspec": {
   "display_name": "base",
   "language": "python",
   "name": "python3"
  },
  "language_info": {
   "codemirror_mode": {
    "name": "ipython",
    "version": 3
   },
   "file_extension": ".py",
   "mimetype": "text/x-python",
   "name": "python",
   "nbconvert_exporter": "python",
   "pygments_lexer": "ipython3",
   "version": "3.7.5"
  }
 },
 "nbformat": 4,
 "nbformat_minor": 2
}
