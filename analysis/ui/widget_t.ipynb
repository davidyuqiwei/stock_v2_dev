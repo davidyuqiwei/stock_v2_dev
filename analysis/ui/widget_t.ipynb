{
 "cells": [
  {
   "cell_type": "code",
   "execution_count": 1,
   "metadata": {},
   "outputs": [
    {
     "name": "stdout",
     "output_type": "stream",
     "text": [
      "============ import stock list:  stock_list   ================\n"
     ]
    },
    {
     "data": {
      "application/vnd.jupyter.widget-view+json": {
       "model_id": "6caaa29df73f4d72b181ccb144c697b5",
       "version_major": 2,
       "version_minor": 0
      },
      "text/plain": [
       "QgridWidget(grid_options={'fullWidthRows': True, 'syncColumnCellResize': True, 'forceFitColumns': True, 'defau…"
      ]
     },
     "metadata": {},
     "output_type": "display_data"
    }
   ],
   "source": [
    "\n",
    "from dash import Dash, html, dcc, callback, Output, Input\n",
    "import plotly.express as px\n",
    "import pandas as pd\n",
    "import math\n",
    "from scripts_stock.cfg.out_file_name import OutFileName\n",
    "from scripts_stock.cfg.set_dir import ProjectDir\n",
    "from scripts_stock.cfg.stock_list import *\n",
    "from scripts_stock.utils.analysis.stock_stat_index import df_to_stock_df, stock_kdj\n",
    "import os\n",
    "from scripts_stock.utils.common import CommonScript\n",
    "from scripts_stock.utils.string_process import StringProcess\n",
    "\n",
    "import plotly.figure_factory as ff\n",
    "import ipywidgets as widgets\n",
    "\n",
    "\n",
    "import qgrid\n",
    "\n",
    "def get_data_sql_str_macd():\n",
    "    return f\"\"\"SELECT *  FROM t_stock_kdj_daily_last \"\"\"\n",
    "\n",
    "\n",
    "def get_data():\n",
    "    return \"\"\"select t1.*,t2.stock_name from t_stock_kdj_daily_last t1\n",
    "left join prd_t_hs300 t2\n",
    "on t1.stock_index=t2.stock_index\"\"\"\n",
    "\n",
    "\n",
    "\n",
    "\n",
    "# t_stock_kdj_weekly_last\n",
    "conn = CommonScript.connect_to_db(\"test.db\")\n",
    "cursor = conn.cursor()\n",
    "df = pd.read_sql_query(get_data(),conn)\n",
    "df[\"stock_index\"] =df[\"stock_index\"].astype(str)\n",
    "\n",
    "\n",
    "widget = qgrid.show_grid(df[[\"stock_index\",\"close\"]], show_toolbar=True)\n",
    "widget"
   ]
  },
  {
   "cell_type": "code",
   "execution_count": 4,
   "metadata": {},
   "outputs": [
    {
     "data": {
      "application/vnd.jupyter.widget-view+json": {
       "model_id": "5f9e58cdffdd4ce781d93f13ce7e34c6",
       "version_major": 2,
       "version_minor": 0
      },
      "text/plain": [
       "QgridWidget(grid_options={'fullWidthRows': True, 'syncColumnCellResize': True, 'forceFitColumns': True, 'defau…"
      ]
     },
     "metadata": {},
     "output_type": "display_data"
    }
   ],
   "source": [
    "from IPython.display import display\n",
    "grid = qgrid.QGridWidget(df=df)\n",
    "display(grid)"
   ]
  },
  {
   "cell_type": "code",
   "execution_count": 5,
   "metadata": {},
   "outputs": [
    {
     "data": {
      "application/vnd.jupyter.widget-view+json": {
       "model_id": "5f9e58cdffdd4ce781d93f13ce7e34c6",
       "version_major": 2,
       "version_minor": 0
      },
      "text/plain": [
       "QgridWidget(grid_options={'fullWidthRows': True, 'syncColumnCellResize': True, 'forceFitColumns': True, 'defau…"
      ]
     },
     "metadata": {},
     "output_type": "display_data"
    }
   ],
   "source": [
    "grid"
   ]
  },
  {
   "cell_type": "code",
   "execution_count": 9,
   "metadata": {},
   "outputs": [
    {
     "data": {
      "application/vnd.jupyter.widget-view+json": {
       "model_id": "b1c0c2a9bbac45dd9f687cc241d1f84d",
       "version_major": 2,
       "version_minor": 0
      },
      "text/plain": [
       "interactive(children=(IntSlider(value=0, description='x_min', max=1), IntSlider(value=10, description='x_max',…"
      ]
     },
     "metadata": {},
     "output_type": "display_data"
    },
    {
     "data": {
      "application/vnd.jupyter.widget-view+json": {
       "model_id": "7e1f70479f3143729bb129dac68cded4",
       "version_major": 2,
       "version_minor": 0
      },
      "text/plain": [
       "Dropdown(description='Zip Code:', options=(0, 10), value=0)"
      ]
     },
     "metadata": {},
     "output_type": "display_data"
    },
    {
     "data": {
      "text/html": [
       "<div>\n",
       "<style scoped>\n",
       "    .dataframe tbody tr th:only-of-type {\n",
       "        vertical-align: middle;\n",
       "    }\n",
       "\n",
       "    .dataframe tbody tr th {\n",
       "        vertical-align: top;\n",
       "    }\n",
       "\n",
       "    .dataframe thead th {\n",
       "        text-align: right;\n",
       "    }\n",
       "</style>\n",
       "<table border=\"1\" class=\"dataframe\">\n",
       "  <thead>\n",
       "    <tr style=\"text-align: right;\">\n",
       "      <th></th>\n",
       "      <th>x</th>\n",
       "      <th>y</th>\n",
       "    </tr>\n",
       "  </thead>\n",
       "  <tbody>\n",
       "    <tr>\n",
       "      <th>0</th>\n",
       "      <td>0.00000</td>\n",
       "      <td>0.000000</td>\n",
       "    </tr>\n",
       "    <tr>\n",
       "      <th>1</th>\n",
       "      <td>0.10101</td>\n",
       "      <td>0.100838</td>\n",
       "    </tr>\n",
       "    <tr>\n",
       "      <th>2</th>\n",
       "      <td>0.20202</td>\n",
       "      <td>0.200649</td>\n",
       "    </tr>\n",
       "    <tr>\n",
       "      <th>3</th>\n",
       "      <td>0.30303</td>\n",
       "      <td>0.298414</td>\n",
       "    </tr>\n",
       "    <tr>\n",
       "      <th>4</th>\n",
       "      <td>0.40404</td>\n",
       "      <td>0.393137</td>\n",
       "    </tr>\n",
       "    <tr>\n",
       "      <th>...</th>\n",
       "      <td>...</td>\n",
       "      <td>...</td>\n",
       "    </tr>\n",
       "    <tr>\n",
       "      <th>95</th>\n",
       "      <td>9.59596</td>\n",
       "      <td>-0.170347</td>\n",
       "    </tr>\n",
       "    <tr>\n",
       "      <th>96</th>\n",
       "      <td>9.69697</td>\n",
       "      <td>-0.268843</td>\n",
       "    </tr>\n",
       "    <tr>\n",
       "      <th>97</th>\n",
       "      <td>9.79798</td>\n",
       "      <td>-0.364599</td>\n",
       "    </tr>\n",
       "    <tr>\n",
       "      <th>98</th>\n",
       "      <td>9.89899</td>\n",
       "      <td>-0.456637</td>\n",
       "    </tr>\n",
       "    <tr>\n",
       "      <th>99</th>\n",
       "      <td>10.00000</td>\n",
       "      <td>-0.544021</td>\n",
       "    </tr>\n",
       "  </tbody>\n",
       "</table>\n",
       "<p>100 rows × 2 columns</p>\n",
       "</div>"
      ],
      "text/plain": [
       "           x         y\n",
       "0    0.00000  0.000000\n",
       "1    0.10101  0.100838\n",
       "2    0.20202  0.200649\n",
       "3    0.30303  0.298414\n",
       "4    0.40404  0.393137\n",
       "..       ...       ...\n",
       "95   9.59596 -0.170347\n",
       "96   9.69697 -0.268843\n",
       "97   9.79798 -0.364599\n",
       "98   9.89899 -0.456637\n",
       "99  10.00000 -0.544021\n",
       "\n",
       "[100 rows x 2 columns]"
      ]
     },
     "metadata": {},
     "output_type": "display_data"
    }
   ],
   "source": [
    "import ipywidgets as widgets\n",
    "import matplotlib.pyplot as plt\n",
    "import pandas as pd\n",
    "import numpy as np\n",
    "\n",
    "# 生成一些示例数据\n",
    "df = pd.DataFrame({\n",
    "    'x': np.linspace(0, 10, 100),\n",
    "    'y': np.sin(np.linspace(0, 10, 100))\n",
    "})\n",
    "\n",
    "# 创建一个交互式小部件\n",
    "@widgets.interact\n",
    "def plot_data(x_min=0, x_max=10):\n",
    "    filtered_df = df[(df['x'] >= x_min) & (df['x'] <= x_max)]\n",
    "    plt.figure(figsize=(10, 5))\n",
    "    plt.plot(filtered_df['x'], filtered_df['y'])\n",
    "    plt.xlabel('x')\n",
    "    plt.ylabel('y')\n",
    "    plt.title('Interactive Plot')\n",
    "    plt.show()\n",
    "\n",
    "zips = [0,10]\n",
    "zips_dropdown = widgets.Dropdown(\n",
    "    options=zips,\n",
    "    value=zips[0],\n",
    "    description='Zip Code:',\n",
    "    disabled=False,\n",
    ")\n",
    "display(zips_dropdown)\n",
    "display(df)\n"
   ]
  }
 ],
 "metadata": {
  "kernelspec": {
   "display_name": "base",
   "language": "python",
   "name": "python3"
  },
  "language_info": {
   "codemirror_mode": {
    "name": "ipython",
    "version": 3
   },
   "file_extension": ".py",
   "mimetype": "text/x-python",
   "name": "python",
   "nbconvert_exporter": "python",
   "pygments_lexer": "ipython3",
   "version": "3.7.5"
  }
 },
 "nbformat": 4,
 "nbformat_minor": 2
}
