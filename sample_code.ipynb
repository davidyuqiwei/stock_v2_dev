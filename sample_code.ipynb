{
 "cells": [
  {
   "cell_type": "code",
   "execution_count": 1,
   "metadata": {},
   "outputs": [
    {
     "name": "stdout",
     "output_type": "stream",
     "text": [
      "============ import stock list:  stock_list   ================\n"
     ]
    }
   ],
   "source": [
    "import math\n",
    "from scripts_stock.cfg.out_file_name import OutFileName\n",
    "from scripts_stock.cfg.set_dir import ProjectDir\n",
    "from scripts_stock.cfg.stock_list import *\n",
    "from scripts_stock.utils.analysis.stock_stat_index import df_to_stock_df, stock_kdj\n",
    "import os\n",
    "from scripts_stock.utils.common import CommonScript\n",
    "from scripts_stock.utils.string_process import StringProcess\n",
    "from scripts_stock.data_base.insert_into_db import insert_df_to_db,read_db_data\n",
    "from scripts_stock.data_base.get_table_info import GetDataFromDB\n",
    "from scripts_stock.data_base.db_py_sql import get_all_fuquan_one_stock\n",
    "from scripts_stock.utils.logging_set import *\n"
   ]
  },
  {
   "cell_type": "code",
   "execution_count": 2,
   "metadata": {},
   "outputs": [],
   "source": [
    "stock_index_list = GetDataFromDB.get_fuquan_stock_index_all()\n",
    "\n",
    "\n"
   ]
  },
  {
   "cell_type": "code",
   "execution_count": 4,
   "metadata": {},
   "outputs": [],
   "source": [
    "stock_index = '2'\n",
    "fuquan_df = GetDataFromDB.get_fuquan_all_one_stock_df(stock_index)"
   ]
  },
  {
   "cell_type": "code",
   "execution_count": 3,
   "metadata": {},
   "outputs": [
    {
     "name": "stdout",
     "output_type": "stream",
     "text": [
      "2013-02-28\n",
      "2013-05-31\n",
      "2013-08-31\n",
      "2013-12-31\n",
      "2014-02-28\n",
      "2014-05-31\n",
      "2014-08-31\n",
      "2014-12-31\n",
      "2015-02-28\n",
      "2015-05-31\n",
      "2015-08-31\n",
      "2015-12-31\n",
      "2016-02-29\n",
      "2016-05-31\n",
      "2016-08-31\n",
      "2016-12-31\n",
      "2017-02-28\n",
      "2017-05-31\n",
      "2017-08-31\n",
      "2017-12-31\n",
      "2018-02-28\n",
      "2018-05-31\n",
      "2018-08-31\n",
      "2018-12-31\n",
      "2019-02-28\n",
      "2019-05-31\n",
      "2019-08-31\n",
      "2019-12-31\n",
      "2020-02-29\n",
      "2020-05-31\n",
      "2020-08-31\n",
      "2020-12-31\n",
      "2021-02-28\n",
      "2021-05-31\n",
      "2021-08-31\n",
      "2021-12-31\n",
      "2022-02-28\n",
      "2022-05-31\n",
      "2022-08-31\n",
      "2022-12-31\n",
      "2023-02-28\n",
      "2023-05-31\n",
      "2023-08-31\n",
      "2023-12-31\n",
      "2024-02-29\n",
      "2024-05-31\n",
      "2024-08-31\n",
      "2024-12-31\n"
     ]
    }
   ],
   "source": [
    "import calendar\n",
    "from datetime import datetime, timedelta\n",
    "\n",
    "# 定义起始年份和结束年份\n",
    "start_year = 2013\n",
    "end_year = 2024\n",
    "\n",
    "# 函数来获取给定年份和季度的最后一天\n",
    "def get_last_day_of_quarter(year, quarter):\n",
    "    # 第一季度: 3月31日, 第二季度: 6月30日, 第三季度: 9月30日, 第四季度: 12月31日\n",
    "    if quarter == 4:\n",
    "        # 如果是第四季度，直接返回12月31日\n",
    "        last_day = datetime(year, 12, 31)\n",
    "    else:\n",
    "        # 对于其他季度，找到该季度末月的第一天然后减去一天\n",
    "        month = 3 * quarter  # 每个季度的最后一个月\n",
    "        last_day = datetime(year, month, 1) - timedelta(days=1)\n",
    "    \n",
    "    return last_day.strftime('%Y-%m-%d')  # 返回日期字符串\n",
    "\n",
    "# 主循环遍历年份和季度\n",
    "for year in range(start_year, end_year + 1):\n",
    "    for quarter in range(1, 5):  # 一年有四个季度\n",
    "        print(get_last_day_of_quarter(year, quarter))"
   ]
  }
 ],
 "metadata": {
  "kernelspec": {
   "display_name": "py38",
   "language": "python",
   "name": "python3"
  },
  "language_info": {
   "codemirror_mode": {
    "name": "ipython",
    "version": 3
   },
   "file_extension": ".py",
   "mimetype": "text/x-python",
   "name": "python",
   "nbconvert_exporter": "python",
   "pygments_lexer": "ipython3",
   "version": "3.8.20"
  }
 },
 "nbformat": 4,
 "nbformat_minor": 2
}
